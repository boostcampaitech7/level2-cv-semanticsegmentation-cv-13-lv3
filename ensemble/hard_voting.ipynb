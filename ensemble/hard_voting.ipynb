{
 "cells": [
  {
   "cell_type": "code",
   "execution_count": 1,
   "metadata": {},
   "outputs": [],
   "source": [
    "import numpy as np # numpy import\n",
    "import pandas as pd # pandas import\n",
    "import os # os import\n",
    "from tqdm import tqdm # 진행상황 확인을 위한 tqdm import"
   ]
  },
  {
   "cell_type": "code",
   "execution_count": 2,
   "metadata": {},
   "outputs": [],
   "source": [
    "def csv_ensemble(csv_paths, save_dir, threshold):  # threshold 파라미터 추가\n",
    "   def decode_rle_to_mask(rle, height, width):\n",
    "       s = rle.split()\n",
    "       starts, lengths = [np.asarray(x, dtype=int) for x in (s[0:][::2], s[1:][::2])]\n",
    "       starts -= 1\n",
    "       ends = starts + lengths\n",
    "       img = np.zeros(height * width, dtype=np.uint8)\n",
    "       \n",
    "       for lo, hi in zip(starts, ends):\n",
    "           img[lo:hi] = 1\n",
    "       \n",
    "       return img.reshape(height, width)\n",
    "\n",
    "   def encode_mask_to_rle(mask):\n",
    "       pixels = mask.flatten()\n",
    "       pixels = np.concatenate([[0], pixels, [0]])\n",
    "       runs = np.where(pixels[1:] != pixels[:-1])[0] + 1\n",
    "       runs[1::2] -= runs[::2]\n",
    "       return ' '.join(str(x) for x in runs)\n",
    "\n",
    "   # csv의 기본 column(column이지만 사실 row입니다.. default 8352)\n",
    "   csv_column = 8352\n",
    "\n",
    "   csv_data = []\n",
    "   for path in csv_paths:\n",
    "       data = pd.read_csv(path)\n",
    "       csv_data.append(data)\n",
    "\n",
    "   file_num = len(csv_data)\n",
    "   filename_and_class = []\n",
    "   rles = []\n",
    "\n",
    "   print(f\"앙상블할 모델 수: {file_num}, threshold: {threshold}\")  # 정보 출력 추가\n",
    "\n",
    "   for index in tqdm(range(csv_column)):    \n",
    "       model_rles = []\n",
    "       for data in csv_data:\n",
    "           # rle 적용 시 이미지 사이즈는 변경하시면 안됩니다. 기본 test 이미지의 사이즈 그대로 유지하세요!\n",
    "           if(type(data.iloc[index]['rle']) == float):\n",
    "               model_rles.append(np.zeros((2048,2048)))\n",
    "               continue\n",
    "           model_rles.append(decode_rle_to_mask(data.iloc[index]['rle'],2048,2048))\n",
    "       \n",
    "       image = np.zeros((2048,2048))\n",
    "\n",
    "       for model in model_rles:\n",
    "           image += model\n",
    "       \n",
    "       # threshold 값으로 결정 (threshold의 값은 투표 수입니다!)\n",
    "       # threshold로 설정된 값보다 크면 1, 작으면 0으로 변경합니다.\n",
    "       image[image <= threshold] = 0\n",
    "       image[image > threshold] = 1\n",
    "\n",
    "       result_image = image\n",
    "\n",
    "       rles.append(encode_mask_to_rle(result_image))\n",
    "       filename_and_class.append(f\"{csv_data[0].iloc[index]['class']}_{csv_data[0].iloc[index]['image_name']}\")\n",
    "\n",
    "   classes, filename = zip(*[x.split(\"_\") for x in filename_and_class])\n",
    "   image_name = [os.path.basename(f) for f in filename]\n",
    "\n",
    "   # 기본 Dataframe의 구조는 image_name, class, rle로 되어있습니다.\n",
    "   df = pd.DataFrame({\n",
    "       \"image_name\": image_name,\n",
    "       \"class\": classes,\n",
    "       \"rle\": rles,\n",
    "   })\n",
    "\n",
    "   # 최종 ensemble output 저장\n",
    "   df.to_csv(save_dir, index=False)"
   ]
  },
  {
   "cell_type": "code",
   "execution_count": null,
   "metadata": {},
   "outputs": [
    {
     "name": "stdout",
     "output_type": "stream",
     "text": [
      "앙상블할 모델 수: 8, threshold: 3\n"
     ]
    },
    {
     "name": "stderr",
     "output_type": "stream",
     "text": [
      "100%|██████████| 8352/8352 [20:40<00:00,  6.74it/s]\n"
     ]
    }
   ],
   "source": [
    "csv_paths = [\n",
    "    '/data/ephemeral/home/kjh/level2-cv-semanticsegmentation-cv-13-lv3/ensemble/checkpoint/csv/DeepLabV3_seed=42.csv',\n",
    "    '/data/ephemeral/home/kjh/level2-cv-semanticsegmentation-cv-13-lv3/ensemble/checkpoint/csv/SAM2UNet_1024p_1e-4_amp_best.csv',\n",
    "    '/data/ephemeral/home/kjh/level2-cv-semanticsegmentation-cv-13-lv3/ensemble/checkpoint/csv/SAM2Unet-1024p_bs4_amp_cosine3-4-50_CLAHE.csv',\n",
    "    '/data/ephemeral/home/kjh/level2-cv-semanticsegmentation-cv-13-lv3/ensemble/checkpoint/csv/segformer_from_mmseg.csv',\n",
    "    '/data/ephemeral/home/kjh/level2-cv-semanticsegmentation-cv-13-lv3/ensemble/checkpoint/csv/UPerNet mit_b5_1024.csv',\n",
    "    '/data/ephemeral/home/kjh/level2-cv-semanticsegmentation-cv-13-lv3/ensemble/checkpoint/csv/UPerNet_efficientnet-b7_2048_epoch100.csv',\n",
    "    '/data/ephemeral/home/kjh/level2-cv-semanticsegmentation-cv-13-lv3/ensemble/checkpoint/csv/UPerNet_HRNet.csv',\n",
    "    '/data/ephemeral/home/kjh/level2-cv-semanticsegmentation-cv-13-lv3/ensemble/checkpoint/csv/yolov11x-seg_70epoch.csv'\n",
    "    ]\n",
    "\n",
    "# threshold in [2]에서 []의 숫자를 변경하면 투표 임계값을 설정하실 수 있습니다.\n",
    "for threshold in [3]:\n",
    "    save_path = f\"ensemble_threshold_{threshold}.csv\"\n",
    "    csv_ensemble(csv_paths, save_path, threshold)"
   ]
  }
 ],
 "metadata": {
  "kernelspec": {
   "display_name": "base",
   "language": "python",
   "name": "python3"
  },
  "language_info": {
   "codemirror_mode": {
    "name": "ipython",
    "version": 3
   },
   "file_extension": ".py",
   "mimetype": "text/x-python",
   "name": "python",
   "nbconvert_exporter": "python",
   "pygments_lexer": "ipython3",
   "version": "3.10.13"
  }
 },
 "nbformat": 4,
 "nbformat_minor": 2
}
