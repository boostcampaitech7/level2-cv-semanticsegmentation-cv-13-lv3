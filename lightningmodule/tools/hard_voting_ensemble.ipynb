{
 "cells": [
  {
   "cell_type": "code",
   "execution_count": 1,
   "metadata": {},
   "outputs": [],
   "source": [
    "import numpy as np\n",
    "import pandas as pd\n",
    "import os\n",
    "from tqdm import tqdm"
   ]
  },
  {
   "cell_type": "code",
   "execution_count": 2,
   "metadata": {},
   "outputs": [],
   "source": [
    "def csv_ensemble(csv_paths, save_dir):  \n",
    "    def decode_rle_to_mask(rle, height, width):\n",
    "        # RLE로 인코딩된 결과를 mask map으로 복원합니다.\n",
    "        s = rle.split()\n",
    "        starts, lengths = [np.asarray(x, dtype=int) for x in (s[0:][::2], s[1:][::2])]\n",
    "        starts -= 1\n",
    "        ends = starts + lengths\n",
    "        img = np.zeros(height * width, dtype=np.uint8)\n",
    "        \n",
    "        for lo, hi in zip(starts, ends):\n",
    "            img[lo:hi] = 1\n",
    "        \n",
    "        return img.reshape(height, width)\n",
    "\n",
    "    def encode_mask_to_rle(mask):\n",
    "        # mask map으로 나오는 인퍼런스 결과를 RLE로 인코딩 합니다.\n",
    "        pixels = mask.flatten()\n",
    "        pixels = np.concatenate([[0], pixels, [0]])\n",
    "        runs = np.where(pixels[1:] != pixels[:-1])[0] + 1\n",
    "        runs[1::2] -= runs[::2]\n",
    "        return ' '.join(str(x) for x in runs)\n",
    "\n",
    "    # CSV 데이터 로드\n",
    "    csv_data = []\n",
    "    for path in csv_paths:\n",
    "        data = pd.read_csv(path)\n",
    "        \n",
    "        # 필수 열 확인\n",
    "        required_columns = ['rle', 'class', 'image_name']\n",
    "        if not all(col in data.columns for col in required_columns):\n",
    "            raise ValueError(f\"CSV file at {path} is missing required columns: {required_columns}\")\n",
    "        \n",
    "        csv_data.append(data)\n",
    "\n",
    "    # 데이터 일관성 확인\n",
    "    csv_column = min(len(data) for data in csv_data)  # 최소 열 길이를 기준으로 설정\n",
    "    print(f\"Using {csv_column} rows based on the shortest CSV.\")\n",
    "\n",
    "    file_num = len(csv_data)\n",
    "    filename_and_class = []\n",
    "    rles = []\n",
    "\n",
    "    for index in tqdm(range(csv_column)):    \n",
    "        model_rles = []\n",
    "        for data in csv_data:\n",
    "            # 인덱스 범위 초과 방지\n",
    "            if index >= len(data):\n",
    "                print(f\"Index {index} out of bounds for DataFrame with length {len(data)}\")\n",
    "                model_rles.append(np.zeros((2048, 2048)))\n",
    "                continue\n",
    "            \n",
    "            # NaN 체크\n",
    "            if pd.isna(data.iloc[index]['rle']) or type(data.iloc[index]['rle']) == float:\n",
    "                model_rles.append(np.zeros((2048, 2048)))\n",
    "                continue\n",
    "            \n",
    "            model_rles.append(decode_rle_to_mask(data.iloc[index]['rle'], 2048, 2048))\n",
    "        \n",
    "        # 앙상블\n",
    "        image = np.zeros((2048, 2048))\n",
    "        for model in model_rles:\n",
    "            image += model\n",
    "        \n",
    "        # Majority Voting\n",
    "        image[image <= (file_num // 2)] = 0\n",
    "        image[image > (file_num // 2)] = 1\n",
    "\n",
    "        result_image = image\n",
    "\n",
    "        # 앙상블 결과 RLE로 인코딩\n",
    "        rles.append(encode_mask_to_rle(result_image))\n",
    "        filename_and_class.append(f\"{csv_data[0].iloc[index]['class']}_{csv_data[0].iloc[index]['image_name']}\")\n",
    "\n",
    "    # CSV 저장\n",
    "    classes, filenames = zip(*[x.split(\"_\") for x in filename_and_class])\n",
    "    image_name = [os.path.basename(f) for f in filenames]\n",
    "\n",
    "    df = pd.DataFrame({\n",
    "        \"image_name\": image_name,\n",
    "        \"class\": classes,\n",
    "        \"rle\": rles,\n",
    "    })\n",
    "\n",
    "    os.makedirs(os.path.dirname(save_dir), exist_ok=True)\n",
    "    df.to_csv(save_dir, index=False)\n",
    "    print(f\"Ensembled CSV saved at {save_dir}\")"
   ]
  },
  {
   "cell_type": "code",
   "execution_count": 3,
   "metadata": {},
   "outputs": [],
   "source": [
    "csv_path1 = '/Users/kimbohyun/Desktop/tools/hard_1/deeplabv3+++.csv'\n",
    "csv_path2 = '/Users/kimbohyun/Desktop/tools/hard_1/hard_3.csv'\n",
    "csv_path3 = '/Users/kimbohyun/Desktop/tools/hard_1/HRNet.csv'\n",
    "\n",
    "csv_paths = [csv_path1, csv_path2, csv_path3]\n",
    "save_dir = './ensemble.csv'"
   ]
  },
  {
   "cell_type": "code",
   "execution_count": 4,
   "metadata": {},
   "outputs": [
    {
     "name": "stdout",
     "output_type": "stream",
     "text": [
      "Using 8352 rows based on the shortest CSV.\n"
     ]
    },
    {
     "name": "stderr",
     "output_type": "stream",
     "text": [
      "100%|██████████| 8352/8352 [03:13<00:00, 43.07it/s]\n"
     ]
    },
    {
     "name": "stdout",
     "output_type": "stream",
     "text": [
      "Ensembled CSV saved at ./ensemble.csv\n"
     ]
    }
   ],
   "source": [
    "csv_ensemble(csv_paths, save_dir)"
   ]
  }
 ],
 "metadata": {
  "kernelspec": {
   "display_name": "base",
   "language": "python",
   "name": "python3"
  },
  "language_info": {
   "codemirror_mode": {
    "name": "ipython",
    "version": 3
   },
   "file_extension": ".py",
   "mimetype": "text/x-python",
   "name": "python",
   "nbconvert_exporter": "python",
   "pygments_lexer": "ipython3",
   "version": "3.10.13"
  },
  "orig_nbformat": 4
 },
 "nbformat": 4,
 "nbformat_minor": 2
}
