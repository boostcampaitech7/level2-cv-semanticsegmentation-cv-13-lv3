{
 "cells": [
  {
   "cell_type": "markdown",
   "metadata": {},
   "source": [
    "입력 설정:\n",
    "\n",
    "input_dir: CSV 파일이 저장된 디렉토리 경로.\n",
    "output_csv: 앙상블 결과를 저장할 파일 경로.\n",
    "iou_threshold: IOU 기준값(박스/마스크 병합 기준).\n",
    "vote_threshold: 특정 예측을 유지하기 위한 최소 모델 투표 수.\n",
    "RLE 처리 함수:\n",
    "\n",
    "decode_rle: RLE 데이터를 binary mask로 변환.\n",
    "encode_rle: binary mask를 RLE 데이터로 변환.\n",
    "앙상블 수행:\n",
    "\n",
    "동일한 image_name과 class에 대한 RLE를 IOU와 다수결 기준으로 병합.\n",
    "IOU가 기준치를 넘는 마스크만 병합.\n",
    "다수결 기준(vote_threshold)을 만족하는 마스크만 최종 결과에 포함.\n",
    "결과 저장:\n",
    "\n",
    "결과를 output_csv로 저장."
   ]
  },
  {
   "cell_type": "code",
   "execution_count": 1,
   "metadata": {},
   "outputs": [],
   "source": [
    "import os\n",
    "import pandas as pd\n",
    "import numpy as np\n",
    "import torch\n",
    "from tqdm import tqdm"
   ]
  },
  {
   "cell_type": "code",
   "execution_count": 2,
   "metadata": {},
   "outputs": [],
   "source": [
    "# 입력 설정\n",
    "\n",
    "# CSV 파일이 위치한 디렉토리 경로\n",
    "input_dir = \"/data/ephemeral/home/kjh2/level2-cv-semanticsegmentation-cv-13-lv3/inference/\"\n",
    "\n",
    "# 결과를 저장할 파일명\n",
    "output_csv = \"csv_ensemble_soft_1.csv\"  "
   ]
  },
  {
   "cell_type": "code",
   "execution_count": 3,
   "metadata": {},
   "outputs": [
    {
     "name": "stdout",
     "output_type": "stream",
     "text": [
      "Using device: cuda\n"
     ]
    }
   ],
   "source": [
    "# GPU/CPU 설정\n",
    "device = torch.device(\"cuda\" if torch.cuda.is_available() else \"cpu\")\n",
    "print(f\"Using device: {device}\")"
   ]
  },
  {
   "cell_type": "code",
   "execution_count": 4,
   "metadata": {},
   "outputs": [
    {
     "name": "stderr",
     "output_type": "stream",
     "text": [
      "100%|██████████| 8352/8352 [09:14<00:00, 15.05it/s]\n"
     ]
    }
   ],
   "source": [
    "# RLE 디코딩 함수: NaN 값은 빈 마스크로 처리하고 정규화 추가\n",
    "def decode_rle(rle, shape, device):\n",
    "    if not isinstance(rle, str) or pd.isna(rle):\n",
    "        # RLE가 문자열이 아니거나 NaN인 경우 빈 마스크 반환\n",
    "        return torch.zeros(shape, dtype=torch.float32, device=device)\n",
    "    s = rle.split()\n",
    "    starts, lengths = [torch.tensor(list(map(int, x)), dtype=torch.int32, device=device) for x in (s[0::2], s[1::2])]\n",
    "    starts -= 1\n",
    "    ends = starts + lengths\n",
    "    mask = torch.zeros(shape[0] * shape[1], dtype=torch.float32, device=device)\n",
    "    for start, end in zip(starts, ends):\n",
    "        mask[start:end] = 1\n",
    "    mask = mask.view(shape[1], shape[0]).T  # Reshape with Fortran order\n",
    "    # 마스크 정규화\n",
    "    return (mask - mask.min()) / (mask.max() - mask.min() + 1e-7)\n",
    "\n",
    "# RLE 인코딩 함수: 바이너리 마스크를 RLE 데이터로 변환\n",
    "def encode_rle(mask):\n",
    "    pixels = mask.flatten().cpu().numpy()\n",
    "    pixels = np.concatenate([[0], pixels, [0]])\n",
    "    runs = np.where(pixels[1:] != pixels[:-1])[0] + 1\n",
    "    runs[1::2] -= runs[::2]\n",
    "    return ' '.join(str(x) for x in runs)\n",
    "\n",
    "mask_shape = (2048, 2048)  # 마스크의 크기\n",
    "\n",
    "# CSV 파일 읽어오기\n",
    "csv_files = [os.path.join(input_dir, f) for f in os.listdir(input_dir) if f.endswith('.csv')]\n",
    "dfs = [pd.read_csv(f) for f in csv_files]\n",
    "\n",
    "# 앙상블 결과를 저장할 리스트 초기화\n",
    "final_result = []\n",
    "\n",
    "# 고유한 image_name과 class 쌍을 처리\n",
    "unique_keys = dfs[0][['image_name', 'class']].drop_duplicates()\n",
    "\n",
    "# 모델 가중치 (필요에 따라 조정 가능)\n",
    "weights = [1.0 for _ in range(len(dfs))]\n",
    "\n",
    "# 소프트 보팅 수행\n",
    "for _, row in tqdm(unique_keys.iterrows(), total=len(unique_keys)):\n",
    "    image_name, cls = row['image_name'], row['class']\n",
    "    masks = []\n",
    "\n",
    "    # 각 모델에서 RLE 디코딩 및 가중치 적용\n",
    "    for idx, df in enumerate(dfs):\n",
    "        rle = df[(df['image_name'] == image_name) & (df['class'] == cls)]['rle']\n",
    "        if len(rle) > 0:\n",
    "            decoded = decode_rle(rle.iloc[0], mask_shape, device)\n",
    "            masks.append(weights[idx] * decoded)\n",
    "\n",
    "    # 유효한 마스크가 없으면 처리 건너뛰기\n",
    "    if not masks:\n",
    "        continue\n",
    "\n",
    "    # 가중 평균 계산\n",
    "    masks_stack = torch.stack(masks)\n",
    "    average_mask = masks_stack.sum(dim=0) / sum(weights)\n",
    "\n",
    "    # 평균 마스크를 이진 마스크로 변환 (임계값 적용)\n",
    "    final_mask = (average_mask > 0.25).float()  # 임계값 0.3으로 설정\n",
    "\n",
    "    # 최종 마스크를 RLE로 변환\n",
    "    final_rle = encode_rle(final_mask)\n",
    "\n",
    "    # 결과 저장\n",
    "    final_result.append({'image_name': image_name, 'class': cls, 'rle': final_rle})"
   ]
  },
  {
   "cell_type": "code",
   "execution_count": 5,
   "metadata": {},
   "outputs": [
    {
     "name": "stdout",
     "output_type": "stream",
     "text": [
      "Soft voting ensemble completed. Results saved to csv_ensemble_soft_1.csv\n"
     ]
    }
   ],
   "source": [
    "# 결과를 DataFrame으로 변환하여 CSV로 저장\n",
    "final_result_df = pd.DataFrame(final_result)\n",
    "final_result_df.to_csv(output_csv, index=False)\n",
    "\n",
    "print(f\"Soft voting ensemble completed. Results saved to {output_csv}\")"
   ]
  }
 ],
 "metadata": {
  "kernelspec": {
   "display_name": "base",
   "language": "python",
   "name": "python3"
  },
  "language_info": {
   "codemirror_mode": {
    "name": "ipython",
    "version": 3
   },
   "file_extension": ".py",
   "mimetype": "text/x-python",
   "name": "python",
   "nbconvert_exporter": "python",
   "pygments_lexer": "ipython3",
   "version": "3.10.13"
  }
 },
 "nbformat": 4,
 "nbformat_minor": 2
}
